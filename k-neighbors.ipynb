{
  "nbformat": 4,
  "nbformat_minor": 0,
  "metadata": {
    "colab": {
      "name": "Dan Brody - Model Assessment - Assignment 3",
      "provenance": [],
      "collapsed_sections": [],
      "authorship_tag": "ABX9TyOtgfgKGh8/9XiMcF/MvsSN",
      "include_colab_link": true
    },
    "kernelspec": {
      "name": "python3",
      "display_name": "Python 3"
    }
  },
  "cells": [
    {
      "cell_type": "markdown",
      "metadata": {
        "id": "view-in-github",
        "colab_type": "text"
      },
      "source": [
        "<a href=\"https://colab.research.google.com/github/dbrody112/Frequentist-Machine-Learning/blob/main/Dan_Brody_Model_Assessment_Assignment_3.ipynb\" target=\"_parent\"><img src=\"https://colab.research.google.com/assets/colab-badge.svg\" alt=\"Open In Colab\"/></a>"
      ]
    },
    {
      "cell_type": "markdown",
      "metadata": {
        "id": "zX4790YYPf-m"
      },
      "source": [
        "# **Model Assessment (Incorrect Way)**\n",
        "\n"
      ]
    },
    {
      "cell_type": "code",
      "metadata": {
        "id": "j0REvf7UNsB2",
        "outputId": "6b2758ff-6dcb-4d40-84f6-3f919f9ed40a",
        "colab": {
          "base_uri": "https://localhost:8080/",
          "height": 34
        }
      },
      "source": [
        "import numpy as np\n",
        "import re\n",
        "import pandas as pd\n",
        "import matplotlib.pyplot as plt\n",
        "import seaborn as sns\n",
        "from sklearn.metrics import mean_squared_error\n",
        "from collections import Counter\n",
        "from IPython.core.display import display, HTML\n",
        "sns.set_style('darkgrid')\n",
        "from sklearn import datasets, svm\n",
        "import sklearn\n",
        "from sklearn.neighbors import KNeighborsClassifier\n",
        "from sklearn.model_selection import KFold\n",
        "import plotly.express as px\n",
        "from sklearn.metrics import accuracy_score\n",
        "\n",
        "#CREATING BINARY CLASSIFICATION GAUSSIAN DATASET\n",
        "\n",
        "X,y = sklearn.datasets.make_classification(n_samples = 50, n_features = 5000, weights = [0.50], random_state = 25)\n",
        "df = pd.DataFrame(X)\n",
        "df[\"target\"] = y\n",
        "\n",
        "#GETTING BEST 100 COLUMNS CORRELATED TO TARGET\n",
        "\n",
        "z = (df.corr()['target']).drop('target').values\n",
        "z.sort()\n",
        "best_hundred = []\n",
        "for i in range(100):\n",
        "    best_hundred.append(z[len(z)-1-i])\n",
        "a = (df.corr()['target']).drop('target')[(df.corr()['target']).drop('target') >= min(best_hundred)].index\n",
        "new_x = []\n",
        "\n",
        "#CREATING DATASET OF BEST 100 COLUMNS\n",
        "\n",
        "for i in a:\n",
        "    new_x.append(df.values[:,i])\n",
        "new_x = np.array(new_x)\n",
        "new_x_transpose = np.transpose(new_x)\n",
        "\n",
        "#DECLARING 1-NEIGHBOR KNEIGHBORS\n",
        "\n",
        "neigh = KNeighborsClassifier(n_neighbors = 1)\n",
        "\n",
        "np.random.seed(25)\n",
        "kf = KFold(n_splits = 5,shuffle = True)\n",
        "\n",
        "#USING K-FOLD TO ITERATE THROUGH 50 SPLITS OF DATASET\n",
        "\n",
        "accuracy_model=[]\n",
        "for train_index, test_index in kf.split(new_x_transpose):\n",
        "\n",
        "    # Split train-test\n",
        "\n",
        "    X_train, X_test = new_x_transpose[train_index], new_x_transpose[test_index]\n",
        "    y_train, y_test = y[train_index], y[test_index]\n",
        "\n",
        "    # Train the model\n",
        "\n",
        "    model = neigh.fit(X_train, y_train)\n",
        "    pred = model.predict(X_test)\n",
        "    \n",
        "        \n",
        "    # Append to accuracy_model the accuracy of the model\n",
        "\n",
        "    accuracy_model.append(accuracy_score(y_test,pred))\n",
        "\n",
        "print(f\"Incorrect Model Assessment Accuracy is {np.average(accuracy_model)*100}% while benchmark with zeros is {accuracy_score(y_test,np.zeros((len(y_test),1)))*100}% and benchmark with ones is {accuracy_score(y_test,np.ones((len(y_test),1)))*100}%\")"
      ],
      "execution_count": null,
      "outputs": [
        {
          "output_type": "stream",
          "text": [
            "Incorrect Model Assessment Accuracy is 94.0% while benchmark with zeros is 40.0% and benchmark with ones is 60.0%\n"
          ],
          "name": "stdout"
        }
      ]
    },
    {
      "cell_type": "markdown",
      "metadata": {
        "id": "szBFKrGH5Ssb"
      },
      "source": [
        "# **Model Assessment (The Correct Way)**"
      ]
    },
    {
      "cell_type": "code",
      "metadata": {
        "id": "naOjzu9jipl_",
        "outputId": "032815bb-a507-45ad-e7ce-32bbdfb9320e",
        "colab": {
          "base_uri": "https://localhost:8080/",
          "height": 269
        }
      },
      "source": [
        "#SPLITTING DATASET TO ISOLATE ONE SAMPLE\n",
        "s = 1\n",
        "kf2 = KFold(n_splits = 5,shuffle = True)\n",
        "accuracy_model = []\n",
        "for train_index, test_index in kf2.split(X):\n",
        "    # Split train-test\n",
        "    X_train, X_test = X[train_index], X[test_index]\n",
        "    y_train, y_test = y[train_index], y[test_index]\n",
        "    # Train the model\n",
        "\n",
        "    #REMOVING SAMPLE SELECTED FROM KFOLD\n",
        "    \n",
        "    test_remove = []\n",
        "    for i in test_index:\n",
        "      test_remove.append(i)\n",
        "    \n",
        "    df = pd.DataFrame(X)\n",
        "    df[\"target\"] = y\n",
        "    df.drop(test_remove,inplace = True)\n",
        "    \n",
        "    #FINDING 100 MOST CORRELATED COLUMNS\n",
        "\n",
        "    z_correct = (df.corr()['target']).drop('target').values\n",
        "    z_correct.sort()\n",
        "    best_hundred_correct = []\n",
        "\n",
        "    for i in range(100):\n",
        "      best_hundred_correct.append(z_correct[len(z_correct)-1-i])\n",
        "    a_correct = (df.corr()['target']).drop('target')[(df.corr()['target']).drop('target') >= min(best_hundred)].index\n",
        "\n",
        "    new_x_correct = []\n",
        "    for i in a_correct:\n",
        "      new_x_correct.append(df.values[:,i])\n",
        "    new_x_correct_transpose = np.transpose(new_x_correct)\n",
        "\n",
        "    new_x_test_correct = []\n",
        "    for i in a_correct:\n",
        "      new_x_test_correct.append(X_test[:,i])\n",
        "    new_x_test_correct_transpose = np.transpose(new_x_test_correct)\n",
        "\n",
        "      #IMPLEMENTING KNEIGHBORS \n",
        "\n",
        "    neigh = KNeighborsClassifier(n_neighbors = 1)\n",
        "    neigh.fit(new_x_correct_transpose,df['target'])\n",
        "    pred = neigh.predict(new_x_test_correct_transpose)\n",
        "\n",
        "    accuracy_model.append([accuracy_score((y_test),pred),a_correct])\n",
        "    \n",
        "    print(f\"Kfold # {s} is completed. Waiting on next fold...\")\n",
        "    print(\"\\n\")\n",
        "    s+=1\n",
        "    \n"
      ],
      "execution_count": null,
      "outputs": [
        {
          "output_type": "stream",
          "text": [
            "Kfold # 1 is completed. Waiting on next fold...\n",
            "\n",
            "\n",
            "Kfold # 2 is completed. Waiting on next fold...\n",
            "\n",
            "\n",
            "Kfold # 3 is completed. Waiting on next fold...\n",
            "\n",
            "\n",
            "Kfold # 4 is completed. Waiting on next fold...\n",
            "\n",
            "\n",
            "Kfold # 5 is completed. Waiting on next fold...\n",
            "\n",
            "\n"
          ],
          "name": "stdout"
        }
      ]
    },
    {
      "cell_type": "code",
      "metadata": {
        "id": "blri-mNUBhpS",
        "outputId": "8d29fab1-9299-4de5-9dc0-9dc352a822be",
        "colab": {
          "base_uri": "https://localhost:8080/",
          "height": 101
        }
      },
      "source": [
        "accuracy_array = []\n",
        "for i in range(5):\n",
        "  accuracy_array.append(accuracy_model[i][0])\n",
        "  print(accuracy_model[i][0])"
      ],
      "execution_count": null,
      "outputs": [
        {
          "output_type": "stream",
          "text": [
            "0.5\n",
            "0.4\n",
            "0.5\n",
            "0.5\n",
            "0.5\n"
          ],
          "name": "stdout"
        }
      ]
    },
    {
      "cell_type": "code",
      "metadata": {
        "id": "_jpmy3y3lFdW",
        "outputId": "accb8641-d206-433f-ccac-5acbd0a91a0b",
        "colab": {
          "base_uri": "https://localhost:8080/",
          "height": 34
        }
      },
      "source": [
        "#error before was saying \"for i in a \" rather than \" for i in a_correct\"\n",
        "\n",
        "print(f\"Correct Model Assessment Accuracy is {np.average(accuracy_array)*100}%  while benchmark with zeros is {accuracy_score(y_test,np.zeros((len(y_test),1)))*100}% and benchmark with ones is {accuracy_score(y_test,np.ones((len(y_test),1)))*100}%\")"
      ],
      "execution_count": null,
      "outputs": [
        {
          "output_type": "stream",
          "text": [
            "Correct Model Assessment Accuracy is 48.0%  while benchmark with zeros is 50.0% and benchmark with ones is 50.0%\n"
          ],
          "name": "stdout"
        }
      ]
    },
    {
      "cell_type": "code",
      "metadata": {
        "id": "YbugkjQ2i_g6"
      },
      "source": [
        "#SPLITTING DATASET TO ISOLATE TEN SAMPLES\n",
        "\n",
        "kf2 = KFold(n_splits = 5, shuffle = True)\n",
        "for train_index, test_index in kf2.split(X):\n",
        "    # Split train-test\n",
        "    new_X_train, new_X_test = X[train_index], X[test_index]\n",
        "    new_y_train, new_y_test = y[train_index], y[test_index]\n",
        "    # Train the model"
      ],
      "execution_count": null,
      "outputs": []
    },
    {
      "cell_type": "code",
      "metadata": {
        "id": "-Fz_gnVUltZQ"
      },
      "source": [
        "#CREATING DATAFRAME USING CORRECT METHOD\n",
        "\n",
        "a_correct = accuracy_model[np.random.randint(0,5)][1]\n",
        "df2 = pd.DataFrame(new_X_test)\n",
        "df2_correct = []\n",
        "for i in a_correct:\n",
        "  df2_correct.append(df2.values[:,i])"
      ],
      "execution_count": null,
      "outputs": []
    },
    {
      "cell_type": "code",
      "metadata": {
        "id": "mC2M5722qvQa"
      },
      "source": [
        "df2_correct = np.array(df2_correct)\n",
        "df2_correct_transpose = np.transpose(df2_correct)\n",
        "df2_correct_transpose\n",
        "df3 = pd.DataFrame(df2_correct_transpose)"
      ],
      "execution_count": null,
      "outputs": []
    },
    {
      "cell_type": "code",
      "metadata": {
        "id": "vLoee9NprMyD",
        "outputId": "f88c75dd-0bbb-45db-e265-03d6e65c8db1",
        "colab": {
          "base_uri": "https://localhost:8080/",
          "height": 542
        }
      },
      "source": [
        "#PLOTTING DISTRIBUTION OF CORRELATIONS\n",
        "\n",
        "df3[\"target\"] = new_y_test\n",
        "fig = px.histogram(df3, x=df3.corr()[\"target\"].drop('target'), title = \"Correct Model Assessment\")\n",
        "f"
      ],
      "execution_count": null,
      "outputs": [
        {
          "output_type": "display_data",
          "data": {
            "text/html": [
              "<html>\n",
              "<head><meta charset=\"utf-8\" /></head>\n",
              "<body>\n",
              "    <div>\n",
              "            <script src=\"https://cdnjs.cloudflare.com/ajax/libs/mathjax/2.7.5/MathJax.js?config=TeX-AMS-MML_SVG\"></script><script type=\"text/javascript\">if (window.MathJax) {MathJax.Hub.Config({SVG: {font: \"STIX-Web\"}});}</script>\n",
              "                <script type=\"text/javascript\">window.PlotlyConfig = {MathJaxConfig: 'local'};</script>\n",
              "        <script src=\"https://cdn.plot.ly/plotly-latest.min.js\"></script>    \n",
              "            <div id=\"091d8b38-f5a2-405f-96fe-ac1c4a302d36\" class=\"plotly-graph-div\" style=\"height:525px; width:100%;\"></div>\n",
              "            <script type=\"text/javascript\">\n",
              "                \n",
              "                    window.PLOTLYENV=window.PLOTLYENV || {};\n",
              "                    \n",
              "                if (document.getElementById(\"091d8b38-f5a2-405f-96fe-ac1c4a302d36\")) {\n",
              "                    Plotly.newPlot(\n",
              "                        '091d8b38-f5a2-405f-96fe-ac1c4a302d36',\n",
              "                        [{\"alignmentgroup\": \"True\", \"bingroup\": \"x\", \"hoverlabel\": {\"namelength\": 0}, \"hovertemplate\": \"x=%{x}<br>count=%{y}\", \"legendgroup\": \"\", \"marker\": {\"color\": \"#636efa\"}, \"name\": \"\", \"offsetgroup\": \"\", \"orientation\": \"v\", \"showlegend\": false, \"type\": \"histogram\", \"x\": [0.19025321825891864, -0.2326807375103714, 0.14301727552147403, -0.13992650154129366, 0.2826261197367419, -0.25707968808529613, 0.31780121972002323, 0.3797137569940306, -0.2195095224913109, 0.15706181395857605, 0.32013806813341206, 0.11956255910315901, 0.6851438387743126, -0.6367525182913234, 0.6270431049476064, 0.2972866465509073, 0.07209359719130097, 0.2152312157828482, 0.24292831571713636, 0.4113017399129652, 0.4620025335796421, 0.37397956320641296, 0.6478591989276886, 0.03716959415348165, -0.3163595342801703, -0.17673010778602383, 0.6132985527952043, 0.4565915425859104, -0.2393668500646262, 0.33725149535516014, 0.11736346070443923, 0.12303369520131976, 0.32429678394326544, 0.47930843256933553, 0.3435674630568666, 0.48944348009568495, 0.3899046978850725, 0.4524928683391381, 0.1919358643796589, 0.03401684560614889, 0.35305411930558395, -0.2090313761828075, 0.39235057024248393, -0.052748580960975455, 0.32773643306485434, 0.19956960405450955, 0.2950956508684371, 0.20961399915081194, -0.11509407959693208, 0.3467987125018278, 0.02429042908104363, 0.23654569620581323, 0.182834672134014, 0.4710343494906226, 0.3073900415355548, 0.23864885302248737, 0.4114172824380692, -0.27257271856711957, 0.08706895529505596, 0.04818421627381749, 0.2679751865435913, 0.23673259967855365, 0.36589753505169087, 0.10344183663136616, -0.09882833844024587, 0.17782107540912154, -0.13187636251225685, 0.6353770770794301, -0.31801148249031824, 0.21268522245456822, -0.23744665375649782, 0.19997020380861436, -0.2945626036068721, -0.19724868061863465, 0.13674640570609004, 0.18786420502009912, 0.6877234630602712, 0.6452594345451639, -0.02607738082598714, 0.010109620250059511, 0.2951724905162222, 0.06758370768602102, -0.24303719117407038, 0.7587497946566333, 0.2739638056955919, 0.3038812976354429, -0.12263671077864344, 0.3505292158908515, 0.2685059246954817, -0.01678125478146792, 0.46320306491564156, -0.548048540437848, -0.26517478630777885, 0.11138422663749507, 0.2152680978054804, 0.20284251158158353, -0.12781824302816006, 0.2987126374372153, 0.4385747108573894, 0.11994909913727964, -0.22024860498619522, 0.03487428481714695, 0.26612524453665637, 0.7589371349340182, 0.4652948625677991, 0.3117168487488843, 0.18504326391469492, 0.49671420051039605, 0.8498547059169814, -0.15430947144355514, 0.30430759010016944, -0.33218221199100506, 0.3101632559945114, 0.5424280024687897, 0.28574236154062443, -0.37285374675789124, -0.12417148023257456, 0.3703227771872637, 0.34157425574071093, -0.31155015283295384, 0.4264879925817039, 0.14494598854159252, 0.7550302292632579, 0.2038246192869117, 0.6760349786629198, 0.6421370313921775, 0.4473129652817562, 0.36853575471912275, 0.08612487730389948, 0.20409424671336707, 0.25008515689753275, -0.038452656568341514, 0.39644059943350823, 0.4929818397875877, 0.3955098785834709, -0.10964009064931496, 0.41250216903602455, 0.7960540394255277, 0.3811313493565081, 0.11684675500910775, 0.39357798561017776, 0.24424080956835342, 0.7294168684355017, 0.8447678503655249, 0.18352162438155373, 0.5441271043936703, -0.008894290105106268, -0.1076635117564923, -0.38848470201816426, 0.10089430283734217, 0.03175323047779661, 0.6005894507171061, -0.08811810101270956, 0.6349165046646398, 0.23384751338687923, 0.07674526787292875, 0.24890086042781046, 0.34061827577158454, 0.3539817257279722, -0.06273487662000937, 0.7566863228570092, -0.4425769250105894, 0.35519027999771263, -0.1625825906897929, 0.23191995236488114, 0.11521997821156336, -0.11600522051961781, 0.22668447138111303, 0.19917884706927377, 0.6388280721209284, 0.8576107203555339, 0.6307139297409134, 0.2630732278893517, 0.35867585630970866, -0.052313634884809924, 0.3737112048791878], \"xaxis\": \"x\", \"yaxis\": \"y\"}],\n",
              "                        {\"barmode\": \"relative\", \"legend\": {\"tracegroupgap\": 0}, \"template\": {\"data\": {\"bar\": [{\"error_x\": {\"color\": \"#2a3f5f\"}, \"error_y\": {\"color\": \"#2a3f5f\"}, \"marker\": {\"line\": {\"color\": \"#E5ECF6\", \"width\": 0.5}}, \"type\": \"bar\"}], \"barpolar\": [{\"marker\": {\"line\": {\"color\": \"#E5ECF6\", \"width\": 0.5}}, \"type\": \"barpolar\"}], \"carpet\": [{\"aaxis\": {\"endlinecolor\": \"#2a3f5f\", \"gridcolor\": \"white\", \"linecolor\": \"white\", \"minorgridcolor\": \"white\", \"startlinecolor\": \"#2a3f5f\"}, \"baxis\": {\"endlinecolor\": \"#2a3f5f\", \"gridcolor\": \"white\", \"linecolor\": \"white\", \"minorgridcolor\": \"white\", \"startlinecolor\": \"#2a3f5f\"}, \"type\": \"carpet\"}], \"choropleth\": [{\"colorbar\": {\"outlinewidth\": 0, \"ticks\": \"\"}, \"type\": \"choropleth\"}], \"contour\": [{\"colorbar\": {\"outlinewidth\": 0, \"ticks\": \"\"}, \"colorscale\": [[0.0, \"#0d0887\"], [0.1111111111111111, \"#46039f\"], [0.2222222222222222, \"#7201a8\"], [0.3333333333333333, \"#9c179e\"], [0.4444444444444444, \"#bd3786\"], [0.5555555555555556, \"#d8576b\"], [0.6666666666666666, \"#ed7953\"], [0.7777777777777778, \"#fb9f3a\"], [0.8888888888888888, \"#fdca26\"], [1.0, \"#f0f921\"]], \"type\": \"contour\"}], \"contourcarpet\": [{\"colorbar\": {\"outlinewidth\": 0, \"ticks\": \"\"}, \"type\": \"contourcarpet\"}], \"heatmap\": [{\"colorbar\": {\"outlinewidth\": 0, \"ticks\": \"\"}, \"colorscale\": [[0.0, \"#0d0887\"], [0.1111111111111111, \"#46039f\"], [0.2222222222222222, \"#7201a8\"], [0.3333333333333333, \"#9c179e\"], [0.4444444444444444, \"#bd3786\"], [0.5555555555555556, \"#d8576b\"], [0.6666666666666666, \"#ed7953\"], [0.7777777777777778, \"#fb9f3a\"], [0.8888888888888888, \"#fdca26\"], [1.0, \"#f0f921\"]], \"type\": \"heatmap\"}], \"heatmapgl\": [{\"colorbar\": {\"outlinewidth\": 0, \"ticks\": \"\"}, \"colorscale\": [[0.0, \"#0d0887\"], [0.1111111111111111, \"#46039f\"], [0.2222222222222222, \"#7201a8\"], [0.3333333333333333, \"#9c179e\"], [0.4444444444444444, \"#bd3786\"], [0.5555555555555556, \"#d8576b\"], [0.6666666666666666, \"#ed7953\"], [0.7777777777777778, \"#fb9f3a\"], [0.8888888888888888, \"#fdca26\"], [1.0, \"#f0f921\"]], \"type\": \"heatmapgl\"}], \"histogram\": [{\"marker\": {\"colorbar\": {\"outlinewidth\": 0, \"ticks\": \"\"}}, \"type\": \"histogram\"}], \"histogram2d\": [{\"colorbar\": {\"outlinewidth\": 0, \"ticks\": \"\"}, \"colorscale\": [[0.0, \"#0d0887\"], [0.1111111111111111, \"#46039f\"], [0.2222222222222222, \"#7201a8\"], [0.3333333333333333, \"#9c179e\"], [0.4444444444444444, \"#bd3786\"], [0.5555555555555556, \"#d8576b\"], [0.6666666666666666, \"#ed7953\"], [0.7777777777777778, \"#fb9f3a\"], [0.8888888888888888, \"#fdca26\"], [1.0, \"#f0f921\"]], \"type\": \"histogram2d\"}], \"histogram2dcontour\": [{\"colorbar\": {\"outlinewidth\": 0, \"ticks\": \"\"}, \"colorscale\": [[0.0, \"#0d0887\"], [0.1111111111111111, \"#46039f\"], [0.2222222222222222, \"#7201a8\"], [0.3333333333333333, \"#9c179e\"], [0.4444444444444444, \"#bd3786\"], [0.5555555555555556, \"#d8576b\"], [0.6666666666666666, \"#ed7953\"], [0.7777777777777778, \"#fb9f3a\"], [0.8888888888888888, \"#fdca26\"], [1.0, \"#f0f921\"]], \"type\": \"histogram2dcontour\"}], \"mesh3d\": [{\"colorbar\": {\"outlinewidth\": 0, \"ticks\": \"\"}, \"type\": \"mesh3d\"}], \"parcoords\": [{\"line\": {\"colorbar\": {\"outlinewidth\": 0, \"ticks\": \"\"}}, \"type\": \"parcoords\"}], \"pie\": [{\"automargin\": true, \"type\": \"pie\"}], \"scatter\": [{\"marker\": {\"colorbar\": {\"outlinewidth\": 0, \"ticks\": \"\"}}, \"type\": \"scatter\"}], \"scatter3d\": [{\"line\": {\"colorbar\": {\"outlinewidth\": 0, \"ticks\": \"\"}}, \"marker\": {\"colorbar\": {\"outlinewidth\": 0, \"ticks\": \"\"}}, \"type\": \"scatter3d\"}], \"scattercarpet\": [{\"marker\": {\"colorbar\": {\"outlinewidth\": 0, \"ticks\": \"\"}}, \"type\": \"scattercarpet\"}], \"scattergeo\": [{\"marker\": {\"colorbar\": {\"outlinewidth\": 0, \"ticks\": \"\"}}, \"type\": \"scattergeo\"}], \"scattergl\": [{\"marker\": {\"colorbar\": {\"outlinewidth\": 0, \"ticks\": \"\"}}, \"type\": \"scattergl\"}], \"scattermapbox\": [{\"marker\": {\"colorbar\": {\"outlinewidth\": 0, \"ticks\": \"\"}}, \"type\": \"scattermapbox\"}], \"scatterpolar\": [{\"marker\": {\"colorbar\": {\"outlinewidth\": 0, \"ticks\": \"\"}}, \"type\": \"scatterpolar\"}], \"scatterpolargl\": [{\"marker\": {\"colorbar\": {\"outlinewidth\": 0, \"ticks\": \"\"}}, \"type\": \"scatterpolargl\"}], \"scatterternary\": [{\"marker\": {\"colorbar\": {\"outlinewidth\": 0, \"ticks\": \"\"}}, \"type\": \"scatterternary\"}], \"surface\": [{\"colorbar\": {\"outlinewidth\": 0, \"ticks\": \"\"}, \"colorscale\": [[0.0, \"#0d0887\"], [0.1111111111111111, \"#46039f\"], [0.2222222222222222, \"#7201a8\"], [0.3333333333333333, \"#9c179e\"], [0.4444444444444444, \"#bd3786\"], [0.5555555555555556, \"#d8576b\"], [0.6666666666666666, \"#ed7953\"], [0.7777777777777778, \"#fb9f3a\"], [0.8888888888888888, \"#fdca26\"], [1.0, \"#f0f921\"]], \"type\": \"surface\"}], \"table\": [{\"cells\": {\"fill\": {\"color\": \"#EBF0F8\"}, \"line\": {\"color\": \"white\"}}, \"header\": {\"fill\": {\"color\": \"#C8D4E3\"}, \"line\": {\"color\": \"white\"}}, \"type\": \"table\"}]}, \"layout\": {\"annotationdefaults\": {\"arrowcolor\": \"#2a3f5f\", \"arrowhead\": 0, \"arrowwidth\": 1}, \"coloraxis\": {\"colorbar\": {\"outlinewidth\": 0, \"ticks\": \"\"}}, \"colorscale\": {\"diverging\": [[0, \"#8e0152\"], [0.1, \"#c51b7d\"], [0.2, \"#de77ae\"], [0.3, \"#f1b6da\"], [0.4, \"#fde0ef\"], [0.5, \"#f7f7f7\"], [0.6, \"#e6f5d0\"], [0.7, \"#b8e186\"], [0.8, \"#7fbc41\"], [0.9, \"#4d9221\"], [1, \"#276419\"]], \"sequential\": [[0.0, \"#0d0887\"], [0.1111111111111111, \"#46039f\"], [0.2222222222222222, \"#7201a8\"], [0.3333333333333333, \"#9c179e\"], [0.4444444444444444, \"#bd3786\"], [0.5555555555555556, \"#d8576b\"], [0.6666666666666666, \"#ed7953\"], [0.7777777777777778, \"#fb9f3a\"], [0.8888888888888888, \"#fdca26\"], [1.0, \"#f0f921\"]], \"sequentialminus\": [[0.0, \"#0d0887\"], [0.1111111111111111, \"#46039f\"], [0.2222222222222222, \"#7201a8\"], [0.3333333333333333, \"#9c179e\"], [0.4444444444444444, \"#bd3786\"], [0.5555555555555556, \"#d8576b\"], [0.6666666666666666, \"#ed7953\"], [0.7777777777777778, \"#fb9f3a\"], [0.8888888888888888, \"#fdca26\"], [1.0, \"#f0f921\"]]}, \"colorway\": [\"#636efa\", \"#EF553B\", \"#00cc96\", \"#ab63fa\", \"#FFA15A\", \"#19d3f3\", \"#FF6692\", \"#B6E880\", \"#FF97FF\", \"#FECB52\"], \"font\": {\"color\": \"#2a3f5f\"}, \"geo\": {\"bgcolor\": \"white\", \"lakecolor\": \"white\", \"landcolor\": \"#E5ECF6\", \"showlakes\": true, \"showland\": true, \"subunitcolor\": \"white\"}, \"hoverlabel\": {\"align\": \"left\"}, \"hovermode\": \"closest\", \"mapbox\": {\"style\": \"light\"}, \"paper_bgcolor\": \"white\", \"plot_bgcolor\": \"#E5ECF6\", \"polar\": {\"angularaxis\": {\"gridcolor\": \"white\", \"linecolor\": \"white\", \"ticks\": \"\"}, \"bgcolor\": \"#E5ECF6\", \"radialaxis\": {\"gridcolor\": \"white\", \"linecolor\": \"white\", \"ticks\": \"\"}}, \"scene\": {\"xaxis\": {\"backgroundcolor\": \"#E5ECF6\", \"gridcolor\": \"white\", \"gridwidth\": 2, \"linecolor\": \"white\", \"showbackground\": true, \"ticks\": \"\", \"zerolinecolor\": \"white\"}, \"yaxis\": {\"backgroundcolor\": \"#E5ECF6\", \"gridcolor\": \"white\", \"gridwidth\": 2, \"linecolor\": \"white\", \"showbackground\": true, \"ticks\": \"\", \"zerolinecolor\": \"white\"}, \"zaxis\": {\"backgroundcolor\": \"#E5ECF6\", \"gridcolor\": \"white\", \"gridwidth\": 2, \"linecolor\": \"white\", \"showbackground\": true, \"ticks\": \"\", \"zerolinecolor\": \"white\"}}, \"shapedefaults\": {\"line\": {\"color\": \"#2a3f5f\"}}, \"ternary\": {\"aaxis\": {\"gridcolor\": \"white\", \"linecolor\": \"white\", \"ticks\": \"\"}, \"baxis\": {\"gridcolor\": \"white\", \"linecolor\": \"white\", \"ticks\": \"\"}, \"bgcolor\": \"#E5ECF6\", \"caxis\": {\"gridcolor\": \"white\", \"linecolor\": \"white\", \"ticks\": \"\"}}, \"title\": {\"x\": 0.05}, \"xaxis\": {\"automargin\": true, \"gridcolor\": \"white\", \"linecolor\": \"white\", \"ticks\": \"\", \"title\": {\"standoff\": 15}, \"zerolinecolor\": \"white\", \"zerolinewidth\": 2}, \"yaxis\": {\"automargin\": true, \"gridcolor\": \"white\", \"linecolor\": \"white\", \"ticks\": \"\", \"title\": {\"standoff\": 15}, \"zerolinecolor\": \"white\", \"zerolinewidth\": 2}}}, \"title\": {\"text\": \"Correct Model Assessment\"}, \"xaxis\": {\"anchor\": \"y\", \"domain\": [0.0, 1.0], \"title\": {\"text\": \"x\"}}, \"yaxis\": {\"anchor\": \"x\", \"domain\": [0.0, 1.0], \"title\": {\"text\": \"count\"}}},\n",
              "                        {\"responsive\": true}\n",
              "                    ).then(function(){\n",
              "                            \n",
              "var gd = document.getElementById('091d8b38-f5a2-405f-96fe-ac1c4a302d36');\n",
              "var x = new MutationObserver(function (mutations, observer) {{\n",
              "        var display = window.getComputedStyle(gd).display;\n",
              "        if (!display || display === 'none') {{\n",
              "            console.log([gd, 'removed!']);\n",
              "            Plotly.purge(gd);\n",
              "            observer.disconnect();\n",
              "        }}\n",
              "}});\n",
              "\n",
              "// Listen for the removal of the full notebook cells\n",
              "var notebookContainer = gd.closest('#notebook-container');\n",
              "if (notebookContainer) {{\n",
              "    x.observe(notebookContainer, {childList: true});\n",
              "}}\n",
              "\n",
              "// Listen for the clearing of the current output cell\n",
              "var outputEl = gd.closest('.output');\n",
              "if (outputEl) {{\n",
              "    x.observe(outputEl, {childList: true});\n",
              "}}\n",
              "\n",
              "                        })\n",
              "                };\n",
              "                \n",
              "            </script>\n",
              "        </div>\n",
              "</body>\n",
              "</html>"
            ]
          },
          "metadata": {
            "tags": []
          }
        }
      ]
    },
    {
      "cell_type": "code",
      "metadata": {
        "id": "noAkfk3uscZG",
        "outputId": "c1fdfb38-0599-44f8-d5a6-5c3312323dc8",
        "colab": {
          "base_uri": "https://localhost:8080/",
          "height": 542
        }
      },
      "source": [
        "#CREATING DATAFRAME USING CORRECT METHOD\n",
        "\n",
        "df2_incorrect = []\n",
        "for i in a:\n",
        "  df2_incorrect.append(df2.values[:,i])\n",
        "df2_incorrect = np.array(df2_incorrect)\n",
        "df2_incorrect_transpose = np.transpose(df2_incorrect)\n",
        "df2_incorrect_transpose\n",
        "df4 = pd.DataFrame(df2_incorrect_transpose)\n",
        "df4[\"target\"] = new_y_test\n",
        "\n",
        "#PLOTTING DISTRIBUTION OF CORRELATIONS\n",
        "\n",
        "fig = px.histogram(df4, x=df4.corr()[\"target\"].drop('target'), title = \"Incorrect Model Assessment\")\n",
        "fig.show()"
      ],
      "execution_count": null,
      "outputs": [
        {
          "output_type": "display_data",
          "data": {
            "text/html": [
              "<html>\n",
              "<head><meta charset=\"utf-8\" /></head>\n",
              "<body>\n",
              "    <div>\n",
              "            <script src=\"https://cdnjs.cloudflare.com/ajax/libs/mathjax/2.7.5/MathJax.js?config=TeX-AMS-MML_SVG\"></script><script type=\"text/javascript\">if (window.MathJax) {MathJax.Hub.Config({SVG: {font: \"STIX-Web\"}});}</script>\n",
              "                <script type=\"text/javascript\">window.PlotlyConfig = {MathJaxConfig: 'local'};</script>\n",
              "        <script src=\"https://cdn.plot.ly/plotly-latest.min.js\"></script>    \n",
              "            <div id=\"eb7f4a9a-5327-4263-806c-a8070e4715b4\" class=\"plotly-graph-div\" style=\"height:525px; width:100%;\"></div>\n",
              "            <script type=\"text/javascript\">\n",
              "                \n",
              "                    window.PLOTLYENV=window.PLOTLYENV || {};\n",
              "                    \n",
              "                if (document.getElementById(\"eb7f4a9a-5327-4263-806c-a8070e4715b4\")) {\n",
              "                    Plotly.newPlot(\n",
              "                        'eb7f4a9a-5327-4263-806c-a8070e4715b4',\n",
              "                        [{\"alignmentgroup\": \"True\", \"bingroup\": \"x\", \"hoverlabel\": {\"namelength\": 0}, \"hovertemplate\": \"x=%{x}<br>count=%{y}\", \"legendgroup\": \"\", \"marker\": {\"color\": \"#636efa\"}, \"name\": \"\", \"offsetgroup\": \"\", \"orientation\": \"v\", \"showlegend\": false, \"type\": \"histogram\", \"x\": [0.26124353149782914, -0.13992650154129366, 0.2826261197367419, 0.8729000924008349, 0.32013806813341206, 0.6851438387743126, 0.6270431049476064, 0.07921815249644745, 0.2152312157828482, 0.24292831571713636, 0.37397956320641296, 0.6478591989276886, 0.03716959415348165, 0.5340783067483218, 0.6132985527952043, 0.4565915425859104, -0.2393668500646262, 0.11736346070443923, 0.32429678394326544, 0.48944348009568495, 0.460462825840672, 0.016747251637946763, 0.39235057024248393, -0.052748580960975455, 0.19956960405450955, 0.2950956508684371, 0.5668078137407218, -0.022163354969173658, 0.25423672894190086, 0.23654569620581323, 0.182834672134014, 0.4710343494906226, 0.3073900415355548, 0.04818421627381749, 0.15688967099465906, 0.36589753505169087, 0.6353770770794301, 0.21268522245456822, 0.3416752779937373, -0.19724868061863465, 0.7445620709788396, 0.18786420502009912, 0.6877234630602712, 0.20349889711782476, 0.2951724905162222, 0.3505292158908515, -0.01678125478146792, 0.3596267695586622, -0.548048540437848, 0.11138422663749507, 0.21429510645481464, 0.2152680978054804, 0.2863562670610424, 0.2987126374372153, 0.11994909913727964, -0.025890631197094265, 0.7589371349340182, 0.4652948625677991, 0.18504326391469492, 0.49671420051039605, 0.8498547059169814, 0.30430759010016944, 0.34404923792704023, 0.3101632559945114, 0.5424280024687897, 0.28574236154062443, -0.12417148023257456, -0.31155015283295384, 0.7550302292632579, 0.6760349786629198, 0.6421370313921775, 0.36853575471912275, 0.20409424671336707, 0.25008515689753275, 0.28895965079817376, 0.39644059943350823, 0.3955098785834709, 0.7960540394255277, 0.3811313493565081, 0.11684675500910775, 0.39357798561017776, 0.24424080956835342, 0.7294168684355017, 0.8447678503655249, 0.5441271043936703, -0.008894290105106268, 0.03175323047779661, 0.6005894507171061, 0.23384751338687923, 0.24890086042781046, -0.06273487662000937, 0.7566863228570092, 0.11521997821156336, 0.6388280721209284, 0.2630732278893517, 0.35867585630970866, 0.7788155115899413, -0.052313634884809924, 0.13556450080511026, 0.6428577625789078], \"xaxis\": \"x\", \"yaxis\": \"y\"}],\n",
              "                        {\"barmode\": \"relative\", \"legend\": {\"tracegroupgap\": 0}, \"template\": {\"data\": {\"bar\": [{\"error_x\": {\"color\": \"#2a3f5f\"}, \"error_y\": {\"color\": \"#2a3f5f\"}, \"marker\": {\"line\": {\"color\": \"#E5ECF6\", \"width\": 0.5}}, \"type\": \"bar\"}], \"barpolar\": [{\"marker\": {\"line\": {\"color\": \"#E5ECF6\", \"width\": 0.5}}, \"type\": \"barpolar\"}], \"carpet\": [{\"aaxis\": {\"endlinecolor\": \"#2a3f5f\", \"gridcolor\": \"white\", \"linecolor\": \"white\", \"minorgridcolor\": \"white\", \"startlinecolor\": \"#2a3f5f\"}, \"baxis\": {\"endlinecolor\": \"#2a3f5f\", \"gridcolor\": \"white\", \"linecolor\": \"white\", \"minorgridcolor\": \"white\", \"startlinecolor\": \"#2a3f5f\"}, \"type\": \"carpet\"}], \"choropleth\": [{\"colorbar\": {\"outlinewidth\": 0, \"ticks\": \"\"}, \"type\": \"choropleth\"}], \"contour\": [{\"colorbar\": {\"outlinewidth\": 0, \"ticks\": \"\"}, \"colorscale\": [[0.0, \"#0d0887\"], [0.1111111111111111, \"#46039f\"], [0.2222222222222222, \"#7201a8\"], [0.3333333333333333, \"#9c179e\"], [0.4444444444444444, \"#bd3786\"], [0.5555555555555556, \"#d8576b\"], [0.6666666666666666, \"#ed7953\"], [0.7777777777777778, \"#fb9f3a\"], [0.8888888888888888, \"#fdca26\"], [1.0, \"#f0f921\"]], \"type\": \"contour\"}], \"contourcarpet\": [{\"colorbar\": {\"outlinewidth\": 0, \"ticks\": \"\"}, \"type\": \"contourcarpet\"}], \"heatmap\": [{\"colorbar\": {\"outlinewidth\": 0, \"ticks\": \"\"}, \"colorscale\": [[0.0, \"#0d0887\"], [0.1111111111111111, \"#46039f\"], [0.2222222222222222, \"#7201a8\"], [0.3333333333333333, \"#9c179e\"], [0.4444444444444444, \"#bd3786\"], [0.5555555555555556, \"#d8576b\"], [0.6666666666666666, \"#ed7953\"], [0.7777777777777778, \"#fb9f3a\"], [0.8888888888888888, \"#fdca26\"], [1.0, \"#f0f921\"]], \"type\": \"heatmap\"}], \"heatmapgl\": [{\"colorbar\": {\"outlinewidth\": 0, \"ticks\": \"\"}, \"colorscale\": [[0.0, \"#0d0887\"], [0.1111111111111111, \"#46039f\"], [0.2222222222222222, \"#7201a8\"], [0.3333333333333333, \"#9c179e\"], [0.4444444444444444, \"#bd3786\"], [0.5555555555555556, \"#d8576b\"], [0.6666666666666666, \"#ed7953\"], [0.7777777777777778, \"#fb9f3a\"], [0.8888888888888888, \"#fdca26\"], [1.0, \"#f0f921\"]], \"type\": \"heatmapgl\"}], \"histogram\": [{\"marker\": {\"colorbar\": {\"outlinewidth\": 0, \"ticks\": \"\"}}, \"type\": \"histogram\"}], \"histogram2d\": [{\"colorbar\": {\"outlinewidth\": 0, \"ticks\": \"\"}, \"colorscale\": [[0.0, \"#0d0887\"], [0.1111111111111111, \"#46039f\"], [0.2222222222222222, \"#7201a8\"], [0.3333333333333333, \"#9c179e\"], [0.4444444444444444, \"#bd3786\"], [0.5555555555555556, \"#d8576b\"], [0.6666666666666666, \"#ed7953\"], [0.7777777777777778, \"#fb9f3a\"], [0.8888888888888888, \"#fdca26\"], [1.0, \"#f0f921\"]], \"type\": \"histogram2d\"}], \"histogram2dcontour\": [{\"colorbar\": {\"outlinewidth\": 0, \"ticks\": \"\"}, \"colorscale\": [[0.0, \"#0d0887\"], [0.1111111111111111, \"#46039f\"], [0.2222222222222222, \"#7201a8\"], [0.3333333333333333, \"#9c179e\"], [0.4444444444444444, \"#bd3786\"], [0.5555555555555556, \"#d8576b\"], [0.6666666666666666, \"#ed7953\"], [0.7777777777777778, \"#fb9f3a\"], [0.8888888888888888, \"#fdca26\"], [1.0, \"#f0f921\"]], \"type\": \"histogram2dcontour\"}], \"mesh3d\": [{\"colorbar\": {\"outlinewidth\": 0, \"ticks\": \"\"}, \"type\": \"mesh3d\"}], \"parcoords\": [{\"line\": {\"colorbar\": {\"outlinewidth\": 0, \"ticks\": \"\"}}, \"type\": \"parcoords\"}], \"pie\": [{\"automargin\": true, \"type\": \"pie\"}], \"scatter\": [{\"marker\": {\"colorbar\": {\"outlinewidth\": 0, \"ticks\": \"\"}}, \"type\": \"scatter\"}], \"scatter3d\": [{\"line\": {\"colorbar\": {\"outlinewidth\": 0, \"ticks\": \"\"}}, \"marker\": {\"colorbar\": {\"outlinewidth\": 0, \"ticks\": \"\"}}, \"type\": \"scatter3d\"}], \"scattercarpet\": [{\"marker\": {\"colorbar\": {\"outlinewidth\": 0, \"ticks\": \"\"}}, \"type\": \"scattercarpet\"}], \"scattergeo\": [{\"marker\": {\"colorbar\": {\"outlinewidth\": 0, \"ticks\": \"\"}}, \"type\": \"scattergeo\"}], \"scattergl\": [{\"marker\": {\"colorbar\": {\"outlinewidth\": 0, \"ticks\": \"\"}}, \"type\": \"scattergl\"}], \"scattermapbox\": [{\"marker\": {\"colorbar\": {\"outlinewidth\": 0, \"ticks\": \"\"}}, \"type\": \"scattermapbox\"}], \"scatterpolar\": [{\"marker\": {\"colorbar\": {\"outlinewidth\": 0, \"ticks\": \"\"}}, \"type\": \"scatterpolar\"}], \"scatterpolargl\": [{\"marker\": {\"colorbar\": {\"outlinewidth\": 0, \"ticks\": \"\"}}, \"type\": \"scatterpolargl\"}], \"scatterternary\": [{\"marker\": {\"colorbar\": {\"outlinewidth\": 0, \"ticks\": \"\"}}, \"type\": \"scatterternary\"}], \"surface\": [{\"colorbar\": {\"outlinewidth\": 0, \"ticks\": \"\"}, \"colorscale\": [[0.0, \"#0d0887\"], [0.1111111111111111, \"#46039f\"], [0.2222222222222222, \"#7201a8\"], [0.3333333333333333, \"#9c179e\"], [0.4444444444444444, \"#bd3786\"], [0.5555555555555556, \"#d8576b\"], [0.6666666666666666, \"#ed7953\"], [0.7777777777777778, \"#fb9f3a\"], [0.8888888888888888, \"#fdca26\"], [1.0, \"#f0f921\"]], \"type\": \"surface\"}], \"table\": [{\"cells\": {\"fill\": {\"color\": \"#EBF0F8\"}, \"line\": {\"color\": \"white\"}}, \"header\": {\"fill\": {\"color\": \"#C8D4E3\"}, \"line\": {\"color\": \"white\"}}, \"type\": \"table\"}]}, \"layout\": {\"annotationdefaults\": {\"arrowcolor\": \"#2a3f5f\", \"arrowhead\": 0, \"arrowwidth\": 1}, \"coloraxis\": {\"colorbar\": {\"outlinewidth\": 0, \"ticks\": \"\"}}, \"colorscale\": {\"diverging\": [[0, \"#8e0152\"], [0.1, \"#c51b7d\"], [0.2, \"#de77ae\"], [0.3, \"#f1b6da\"], [0.4, \"#fde0ef\"], [0.5, \"#f7f7f7\"], [0.6, \"#e6f5d0\"], [0.7, \"#b8e186\"], [0.8, \"#7fbc41\"], [0.9, \"#4d9221\"], [1, \"#276419\"]], \"sequential\": [[0.0, \"#0d0887\"], [0.1111111111111111, \"#46039f\"], [0.2222222222222222, \"#7201a8\"], [0.3333333333333333, \"#9c179e\"], [0.4444444444444444, \"#bd3786\"], [0.5555555555555556, \"#d8576b\"], [0.6666666666666666, \"#ed7953\"], [0.7777777777777778, \"#fb9f3a\"], [0.8888888888888888, \"#fdca26\"], [1.0, \"#f0f921\"]], \"sequentialminus\": [[0.0, \"#0d0887\"], [0.1111111111111111, \"#46039f\"], [0.2222222222222222, \"#7201a8\"], [0.3333333333333333, \"#9c179e\"], [0.4444444444444444, \"#bd3786\"], [0.5555555555555556, \"#d8576b\"], [0.6666666666666666, \"#ed7953\"], [0.7777777777777778, \"#fb9f3a\"], [0.8888888888888888, \"#fdca26\"], [1.0, \"#f0f921\"]]}, \"colorway\": [\"#636efa\", \"#EF553B\", \"#00cc96\", \"#ab63fa\", \"#FFA15A\", \"#19d3f3\", \"#FF6692\", \"#B6E880\", \"#FF97FF\", \"#FECB52\"], \"font\": {\"color\": \"#2a3f5f\"}, \"geo\": {\"bgcolor\": \"white\", \"lakecolor\": \"white\", \"landcolor\": \"#E5ECF6\", \"showlakes\": true, \"showland\": true, \"subunitcolor\": \"white\"}, \"hoverlabel\": {\"align\": \"left\"}, \"hovermode\": \"closest\", \"mapbox\": {\"style\": \"light\"}, \"paper_bgcolor\": \"white\", \"plot_bgcolor\": \"#E5ECF6\", \"polar\": {\"angularaxis\": {\"gridcolor\": \"white\", \"linecolor\": \"white\", \"ticks\": \"\"}, \"bgcolor\": \"#E5ECF6\", \"radialaxis\": {\"gridcolor\": \"white\", \"linecolor\": \"white\", \"ticks\": \"\"}}, \"scene\": {\"xaxis\": {\"backgroundcolor\": \"#E5ECF6\", \"gridcolor\": \"white\", \"gridwidth\": 2, \"linecolor\": \"white\", \"showbackground\": true, \"ticks\": \"\", \"zerolinecolor\": \"white\"}, \"yaxis\": {\"backgroundcolor\": \"#E5ECF6\", \"gridcolor\": \"white\", \"gridwidth\": 2, \"linecolor\": \"white\", \"showbackground\": true, \"ticks\": \"\", \"zerolinecolor\": \"white\"}, \"zaxis\": {\"backgroundcolor\": \"#E5ECF6\", \"gridcolor\": \"white\", \"gridwidth\": 2, \"linecolor\": \"white\", \"showbackground\": true, \"ticks\": \"\", \"zerolinecolor\": \"white\"}}, \"shapedefaults\": {\"line\": {\"color\": \"#2a3f5f\"}}, \"ternary\": {\"aaxis\": {\"gridcolor\": \"white\", \"linecolor\": \"white\", \"ticks\": \"\"}, \"baxis\": {\"gridcolor\": \"white\", \"linecolor\": \"white\", \"ticks\": \"\"}, \"bgcolor\": \"#E5ECF6\", \"caxis\": {\"gridcolor\": \"white\", \"linecolor\": \"white\", \"ticks\": \"\"}}, \"title\": {\"x\": 0.05}, \"xaxis\": {\"automargin\": true, \"gridcolor\": \"white\", \"linecolor\": \"white\", \"ticks\": \"\", \"title\": {\"standoff\": 15}, \"zerolinecolor\": \"white\", \"zerolinewidth\": 2}, \"yaxis\": {\"automargin\": true, \"gridcolor\": \"white\", \"linecolor\": \"white\", \"ticks\": \"\", \"title\": {\"standoff\": 15}, \"zerolinecolor\": \"white\", \"zerolinewidth\": 2}}}, \"title\": {\"text\": \"Incorrect Model Assessment\"}, \"xaxis\": {\"anchor\": \"y\", \"domain\": [0.0, 1.0], \"title\": {\"text\": \"x\"}}, \"yaxis\": {\"anchor\": \"x\", \"domain\": [0.0, 1.0], \"title\": {\"text\": \"count\"}}},\n",
              "                        {\"responsive\": true}\n",
              "                    ).then(function(){\n",
              "                            \n",
              "var gd = document.getElementById('eb7f4a9a-5327-4263-806c-a8070e4715b4');\n",
              "var x = new MutationObserver(function (mutations, observer) {{\n",
              "        var display = window.getComputedStyle(gd).display;\n",
              "        if (!display || display === 'none') {{\n",
              "            console.log([gd, 'removed!']);\n",
              "            Plotly.purge(gd);\n",
              "            observer.disconnect();\n",
              "        }}\n",
              "}});\n",
              "\n",
              "// Listen for the removal of the full notebook cells\n",
              "var notebookContainer = gd.closest('#notebook-container');\n",
              "if (notebookContainer) {{\n",
              "    x.observe(notebookContainer, {childList: true});\n",
              "}}\n",
              "\n",
              "// Listen for the clearing of the current output cell\n",
              "var outputEl = gd.closest('.output');\n",
              "if (outputEl) {{\n",
              "    x.observe(outputEl, {childList: true});\n",
              "}}\n",
              "\n",
              "                        })\n",
              "                };\n",
              "                \n",
              "            </script>\n",
              "        </div>\n",
              "</body>\n",
              "</html>"
            ]
          },
          "metadata": {
            "tags": []
          }
        }
      ]
    }
  ]
}
