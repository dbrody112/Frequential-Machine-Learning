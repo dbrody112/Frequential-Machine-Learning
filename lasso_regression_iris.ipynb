{
 "cells": [
  {
   "cell_type": "code",
   "execution_count": 135,
   "metadata": {
    "scrolled": true
   },
   "outputs": [
    {
     "data": {
      "text/html": [
       "<div>\n",
       "<style scoped>\n",
       "    .dataframe tbody tr th:only-of-type {\n",
       "        vertical-align: middle;\n",
       "    }\n",
       "\n",
       "    .dataframe tbody tr th {\n",
       "        vertical-align: top;\n",
       "    }\n",
       "\n",
       "    .dataframe thead th {\n",
       "        text-align: right;\n",
       "    }\n",
       "</style>\n",
       "<table border=\"1\" class=\"dataframe\">\n",
       "  <thead>\n",
       "    <tr style=\"text-align: right;\">\n",
       "      <th></th>\n",
       "      <th>sepal width (cm)</th>\n",
       "      <th>petal length (cm)</th>\n",
       "      <th>petal width (cm)</th>\n",
       "      <th>sepal length (cm)</th>\n",
       "    </tr>\n",
       "  </thead>\n",
       "  <tbody>\n",
       "    <tr>\n",
       "      <th>sepal width (cm)</th>\n",
       "      <td>1.000000</td>\n",
       "      <td>-0.420516</td>\n",
       "      <td>-0.356544</td>\n",
       "      <td>-0.109369</td>\n",
       "    </tr>\n",
       "    <tr>\n",
       "      <th>petal length (cm)</th>\n",
       "      <td>-0.420516</td>\n",
       "      <td>1.000000</td>\n",
       "      <td>0.962757</td>\n",
       "      <td>0.871754</td>\n",
       "    </tr>\n",
       "    <tr>\n",
       "      <th>petal width (cm)</th>\n",
       "      <td>-0.356544</td>\n",
       "      <td>0.962757</td>\n",
       "      <td>1.000000</td>\n",
       "      <td>0.817954</td>\n",
       "    </tr>\n",
       "    <tr>\n",
       "      <th>sepal length (cm)</th>\n",
       "      <td>-0.109369</td>\n",
       "      <td>0.871754</td>\n",
       "      <td>0.817954</td>\n",
       "      <td>1.000000</td>\n",
       "    </tr>\n",
       "  </tbody>\n",
       "</table>\n",
       "</div>"
      ],
      "text/plain": [
       "                   sepal width (cm)  petal length (cm)  petal width (cm)  \\\n",
       "sepal width (cm)           1.000000          -0.420516         -0.356544   \n",
       "petal length (cm)         -0.420516           1.000000          0.962757   \n",
       "petal width (cm)          -0.356544           0.962757          1.000000   \n",
       "sepal length (cm)         -0.109369           0.871754          0.817954   \n",
       "\n",
       "                   sepal length (cm)  \n",
       "sepal width (cm)           -0.109369  \n",
       "petal length (cm)           0.871754  \n",
       "petal width (cm)            0.817954  \n",
       "sepal length (cm)           1.000000  "
      ]
     },
     "execution_count": 135,
     "metadata": {},
     "output_type": "execute_result"
    }
   ],
   "source": [
    "import numpy as np\n",
    "import re\n",
    "import pandas as pd\n",
    "import matplotlib.pyplot as plt\n",
    "import seaborn as sns\n",
    "from sklearn.metrics import mean_squared_error\n",
    "from collections import Counter\n",
    "from IPython.core.display import display, HTML\n",
    "sns.set_style('darkgrid')\n",
    "from sklearn import datasets, svm\n",
    "\n",
    "# DATA PREPROCESSING\n",
    "dataset = pd.read_csv(\"../Datasets/Iris.csv\")\n",
    "dataset[\"sepal width (cm)\"] = dataset[\"SepalWidthCm\"]\n",
    "dataset[\"petal length (cm)\"] = dataset[\"PetalLengthCm\"]\n",
    "dataset[\"petal width (cm)\"] = dataset[\"PetalWidthCm\"]\n",
    "dataset[\"sepal length (cm)\"] = dataset[\"SepalLengthCm\"]\n",
    "dataset[\"species\"] = dataset[\"Species\"].astype(\"category\").cat.codes\n",
    "revised_dataset = dataset.drop(['SepalLengthCm', 'PetalLengthCm', 'PetalWidthCm', \"SepalWidthCm\", \"Species\"], axis = 1)\n",
    "revised_dataset.drop([\"Id\",\"species\"],axis=1).corr()"
   ]
  },
  {
   "cell_type": "code",
   "execution_count": 170,
   "metadata": {},
   "outputs": [
    {
     "data": {
      "text/plain": [
       "(array([41.,  8.,  1.,  7.,  8., 33.,  6., 23.,  9., 14.]),\n",
       " array([0.1 , 0.34, 0.58, 0.82, 1.06, 1.3 , 1.54, 1.78, 2.02, 2.26, 2.5 ]),\n",
       " <a list of 10 Patch objects>)"
      ]
     },
     "execution_count": 170,
     "metadata": {},
     "output_type": "execute_result"
    },
    {
     "data": {
      "image/png": "[encoded data removed]",
      "text/plain": [
       "<Figure size 432x288 with 4 Axes>"
      ]
     },
     "metadata": {},
     "output_type": "display_data"
    }
   ],
   "source": [
    "#CHECKING FOR NORMAL DISTRIBUTION\n",
    "\n",
    "plt.subplot(321)\n",
    "plt.hist(revised_dataset[\"sepal width (cm)\"])\n",
    "plt.subplot(322)\n",
    "plt.hist(revised_dataset[\"petal length (cm)\"])\n",
    "plt.subplot(323)\n",
    "plt.hist(revised_dataset[\"sepal length (cm)\"])\n",
    "plt.subplot(324)\n",
    "plt.hist(revised_dataset[\"petal width (cm)\"])"
   ]
  },
  {
   "cell_type": "code",
   "execution_count": 138,
   "metadata": {},
   "outputs": [],
   "source": [
    "from sklearn.preprocessing import StandardScaler\n",
    "\n",
    "#DEFINING TARGET AND PREDICTORS\n",
    "X = revised_dataset.drop([\"Id\",\"species\",\"petal width (cm)\"],axis=1 )\n",
    "y = revised_dataset[\"petal width (cm)\"]\n",
    "\n",
    "#SCALING DATA TO NORMAL DISTRIBUTION\n",
    "scaler  = StandardScaler()\n",
    "X_scaled = scaler.fit_transform(X)"
   ]
  },
  {
   "cell_type": "code",
   "execution_count": 139,
   "metadata": {},
   "outputs": [
    {
     "data": {
      "text/plain": [
       "120"
      ]
     },
     "execution_count": 139,
     "metadata": {},
     "output_type": "execute_result"
    }
   ],
   "source": [
    "from sklearn.model_selection import train_test_split\n",
    "\n",
    "#SPLITTING DATA TO TRAIN, TEST, VALIDATION\n",
    "\n",
    "X_train, X_test, y_train, y_test = train_test_split(X_scaled, y.values, test_size = 0.2, random_state = 25)\n",
    "X_validation, X_test,y_validation, y_test = train_test_split(X_test,y_test, test_size = 0.5,random_state = 25)\n",
    "len(X_train)"
   ]
  },
  {
   "cell_type": "code",
   "execution_count": 140,
   "metadata": {},
   "outputs": [],
   "source": [
    "from sklearn.linear_model import Lasso\n",
    "\n",
    "\n",
    "#LASSO CROSS VALIDATION\n",
    "\n",
    "mse_array = []\n",
    "lambdas = np.logspace(-10,0.0000001,200)\n",
    "for i in lambdas:\n",
    "    clf = Lasso(alpha = i)\n",
    "    clf.fit(X_train, y_train)\n",
    "    pred = clf.predict(X_validation)\n",
    "    \n",
    "    mse = 0\n",
    "    for j in range(len(pred)):\n",
    "        mse+=(abs(pred[j]-y_validation[j]))**2\n",
    "    mse_array.append([mse,i])"
   ]
  },
  {
   "cell_type": "code",
   "execution_count": 176,
   "metadata": {},
   "outputs": [
    {
     "data": {
      "text/plain": [
       "[0.275478723530648, 0.0034489628590135307]"
      ]
     },
     "execution_count": 176,
     "metadata": {},
     "output_type": "execute_result"
    }
   ],
   "source": [
    "alpha = min(mse_array)[1]"
   ]
  },
  {
   "cell_type": "code",
   "execution_count": 142,
   "metadata": {},
   "outputs": [],
   "source": [
    "#FITTING AND PREDICTING MODEL FOR TEST SET\n",
    "\n",
    "clf = Lasso(alpha = alpha)\n",
    "clf.fit(X_train, y_train)\n",
    "predTest = clf.predict(X_test)\n"
   ]
  },
  {
   "cell_type": "code",
   "execution_count": 143,
   "metadata": {},
   "outputs": [],
   "source": [
    "#CALCULATING MSE FOR TEST SET\n",
    "\n",
    "\n",
    "mseTest = 0\n",
    "for i in range(len(predTest)):\n",
    "    mseTest+=(abs(predTest[i]-y_test[i]))**2\n"
   ]
  },
  {
   "cell_type": "code",
   "execution_count": 172,
   "metadata": {},
   "outputs": [],
   "source": [
    "#FITTING AND PREDICTING MODEL FOR TRAINING SET\n",
    "\n",
    "clf = Lasso(alpha = 1*10**-10)\n",
    "clf.fit(X_train, y_train)\n",
    "predTrain = clf.predict(X_train)"
   ]
  },
  {
   "cell_type": "code",
   "execution_count": 173,
   "metadata": {},
   "outputs": [],
   "source": [
    "#CALCULATING MSE FOR TRAINING SET\n",
    "\n",
    "mseTrain = 0\n",
    "for i in range(len(predTrain)):\n",
    "    mseTrain+=(abs(predTrain[i]-y_train[i]))**2"
   ]
  },
  {
   "cell_type": "code",
   "execution_count": 174,
   "metadata": {},
   "outputs": [
    {
     "name": "stdout",
     "output_type": "stream",
     "text": [
      "the mse for test set is 0.0394707373056451 and the mse for the train set is 0.03790286631010364\n"
     ]
    }
   ],
   "source": [
    "print(f\"the mse for test set is {mseTest/(len(predTest))} and the mse for the train set is {mseTrain/(len(predTrain))}\")"
   ]
  },
  {
   "cell_type": "code",
   "execution_count": 171,
   "metadata": {},
   "outputs": [
    {
     "data": {
      "text/plain": [
       "[array([ 0.10776443,  0.94071953, -0.16932443]),\n",
       " array([ 0.10776443,  0.94071953, -0.16932443]),\n",
       " array([ 0.10776443,  0.94071953, -0.16932443]),\n",
       " array([ 0.10776443,  0.94071953, -0.16932443]),\n",
       " array([ 0.10776443,  0.94071953, -0.16932443]),\n",
       " array([ 0.10776443,  0.94071953, -0.16932443]),\n",
       " array([ 0.10776443,  0.94071953, -0.16932443]),\n",
       " array([ 0.10776443,  0.94071953, -0.16932443]),\n",
       " array([ 0.10776443,  0.94071953, -0.16932443]),\n",
       " array([ 0.10776443,  0.94071953, -0.16932443]),\n",
       " array([ 0.10776443,  0.94071953, -0.16932443]),\n",
       " array([ 0.10776443,  0.94071953, -0.16932443]),\n",
       " array([ 0.10776443,  0.94071953, -0.16932443]),\n",
       " array([ 0.10776443,  0.94071952, -0.16932443]),\n",
       " array([ 0.10776443,  0.94071952, -0.16932442]),\n",
       " array([ 0.10776443,  0.94071952, -0.16932442]),\n",
       " array([ 0.10776443,  0.94071952, -0.16932442]),\n",
       " array([ 0.10776442,  0.94071952, -0.16932442]),\n",
       " array([ 0.10776442,  0.94071952, -0.16932442]),\n",
       " array([ 0.10776442,  0.94071952, -0.16932442]),\n",
       " array([ 0.10776442,  0.94071952, -0.16932442]),\n",
       " array([ 0.10776442,  0.94071951, -0.16932442]),\n",
       " array([ 0.10776442,  0.94071951, -0.16932441]),\n",
       " array([ 0.10776442,  0.94071951, -0.16932441]),\n",
       " array([ 0.10776442,  0.94071951, -0.16932441]),\n",
       " array([ 0.10776442,  0.9407195 , -0.16932441]),\n",
       " array([ 0.10776442,  0.9407195 , -0.1693244 ]),\n",
       " array([ 0.10776441,  0.94071949, -0.1693244 ]),\n",
       " array([ 0.10776441,  0.94071949, -0.1693244 ]),\n",
       " array([ 0.10776441,  0.94071949, -0.16932439]),\n",
       " array([ 0.10776441,  0.94071948, -0.16932439]),\n",
       " array([ 0.10776441,  0.94071947, -0.16932438]),\n",
       " array([ 0.1077644 ,  0.94071947, -0.16932437]),\n",
       " array([ 0.1077644 ,  0.94071946, -0.16932437]),\n",
       " array([ 0.1077644 ,  0.94071945, -0.16932436]),\n",
       " array([ 0.10776439,  0.94071944, -0.16932435]),\n",
       " array([ 0.10776439,  0.94071943, -0.16932434]),\n",
       " array([ 0.10776438,  0.94071941, -0.16932433]),\n",
       " array([ 0.10776438,  0.9407194 , -0.16932432]),\n",
       " array([ 0.10776437,  0.94071938, -0.1693243 ]),\n",
       " array([ 0.10776436,  0.94071936, -0.16932428]),\n",
       " array([ 0.10776435,  0.94071934, -0.16932427]),\n",
       " array([ 0.10776435,  0.94071932, -0.16932425]),\n",
       " array([ 0.10776433,  0.94071929, -0.16932422]),\n",
       " array([ 0.10776432,  0.94071927, -0.1693242 ]),\n",
       " array([ 0.10776431,  0.94071923, -0.16932417]),\n",
       " array([ 0.1077643 ,  0.9407192 , -0.16932414]),\n",
       " array([ 0.10776428,  0.94071915, -0.1693241 ]),\n",
       " array([ 0.10776426,  0.94071911, -0.16932406]),\n",
       " array([ 0.10776424,  0.94071906, -0.16932401]),\n",
       " array([ 0.10776422,  0.940719  , -0.16932396]),\n",
       " array([ 0.10776419,  0.94071893, -0.16932391]),\n",
       " array([ 0.10776416,  0.94071886, -0.16932384]),\n",
       " array([ 0.10776413,  0.94071877, -0.16932377]),\n",
       " array([ 0.10776409,  0.94071868, -0.16932369]),\n",
       " array([ 0.10776405,  0.94071858, -0.1693236 ]),\n",
       " array([ 0.107764  ,  0.94071846, -0.16932349]),\n",
       " array([ 0.10776395,  0.94071833, -0.16932338]),\n",
       " array([ 0.10776389,  0.94071819, -0.16932325]),\n",
       " array([ 0.10776383,  0.94071802, -0.16932311]),\n",
       " array([ 0.10776375,  0.94071783, -0.16932294]),\n",
       " array([ 0.10776367,  0.94071762, -0.16932276]),\n",
       " array([ 0.10776358,  0.94071739, -0.16932256]),\n",
       " array([ 0.10776347,  0.94071713, -0.16932232]),\n",
       " array([ 0.10776335,  0.94071683, -0.16932206]),\n",
       " array([ 0.10776322,  0.9407165 , -0.16932177]),\n",
       " array([ 0.10776307,  0.94071612, -0.16932144]),\n",
       " array([ 0.10776291,  0.94071572, -0.16932108]),\n",
       " array([ 0.10776272,  0.94071524, -0.16932067]),\n",
       " array([ 0.10776251,  0.94071471, -0.1693202 ]),\n",
       " array([ 0.10776227,  0.94071411, -0.16931968]),\n",
       " array([ 0.10776201,  0.94071347, -0.16931911]),\n",
       " array([ 0.10776171,  0.94071272, -0.16931846]),\n",
       " array([ 0.10776138,  0.94071187, -0.16931772]),\n",
       " array([ 0.107761  ,  0.94071092, -0.16931688]),\n",
       " array([ 0.10776059,  0.9407099 , -0.16931599]),\n",
       " array([ 0.10776012,  0.94070871, -0.16931494]),\n",
       " array([ 0.10775958,  0.94070737, -0.16931376]),\n",
       " array([ 0.10775898,  0.94070586, -0.16931244]),\n",
       " array([ 0.10775833,  0.94070424, -0.16931102]),\n",
       " array([ 0.10775758,  0.94070234, -0.16930935]),\n",
       " array([ 0.10775673,  0.94070021, -0.16930749]),\n",
       " array([ 0.10775577,  0.94069782, -0.16930539]),\n",
       " array([ 0.10775475,  0.94069524, -0.16930312]),\n",
       " array([ 0.10775355,  0.94069223, -0.16930048]),\n",
       " array([ 0.1077522 ,  0.94068884, -0.16929752]),\n",
       " array([ 0.10775068,  0.94068504, -0.16929418]),\n",
       " array([ 0.10774905,  0.94068094, -0.16929058]),\n",
       " array([ 0.10774714,  0.94067616, -0.16928639]),\n",
       " array([ 0.107745  ,  0.94067078, -0.16928168]),\n",
       " array([ 0.10774259,  0.94066474, -0.16927639]),\n",
       " array([ 0.10774   ,  0.94065823, -0.16927066]),\n",
       " array([ 0.10773697,  0.94065064, -0.16926401]),\n",
       " array([ 0.10773357,  0.9406421 , -0.16925653]),\n",
       " array([ 0.10772974,  0.94063251, -0.16924812]),\n",
       " array([ 0.10772562,  0.94062216, -0.16923902]),\n",
       " array([ 0.10772081,  0.9406101 , -0.16922845]),\n",
       " array([ 0.10771541,  0.94059654, -0.16921657]),\n",
       " array([ 0.10770933,  0.9405813 , -0.16920321]),\n",
       " array([ 0.10770279,  0.94056487, -0.16918877]),\n",
       " array([ 0.10769515,  0.94054571, -0.16917198]),\n",
       " array([ 0.10768657,  0.94052418, -0.16915311]),\n",
       " array([ 0.10767692,  0.94049997, -0.16913189]),\n",
       " array([ 0.10766652,  0.94047386, -0.16910894]),\n",
       " array([ 0.10765439,  0.94044344, -0.16908228]),\n",
       " array([ 0.10764076,  0.94040924, -0.1690523 ]),\n",
       " array([ 0.10762543,  0.94037079, -0.1690186 ]),\n",
       " array([ 0.10760891,  0.94032932, -0.16898215]),\n",
       " array([ 0.10758965,  0.940281  , -0.16893979]),\n",
       " array([ 0.10756799,  0.94022668, -0.16889218]),\n",
       " array([ 0.10754365,  0.94016561, -0.16883866]),\n",
       " array([ 0.10751628,  0.94009695, -0.1687785 ]),\n",
       " array([ 0.10748681,  0.94002299, -0.16871349]),\n",
       " array([ 0.10745242,  0.93993672, -0.16863787]),\n",
       " array([ 0.10741376,  0.93983973, -0.16855287]),\n",
       " array([ 0.10737029,  0.93973069, -0.16845731]),\n",
       " array([ 0.10732349,  0.9396132 , -0.16835405]),\n",
       " array([ 0.10726887,  0.93947619, -0.16823396]),\n",
       " array([ 0.10720747,  0.93932216, -0.16809896]),\n",
       " array([ 0.10713844,  0.939149  , -0.16794721]),\n",
       " array([ 0.1070641 ,  0.93896238, -0.16778318]),\n",
       " array([ 0.10697737,  0.9387448 , -0.16759247]),\n",
       " array([ 0.10687987,  0.93850022, -0.1673781 ]),\n",
       " array([ 0.10677026,  0.93822525, -0.16713713]),\n",
       " array([ 0.10665218,  0.93792883, -0.16687658]),\n",
       " array([ 0.10651447,  0.93758337, -0.16657376]),\n",
       " array([ 0.10635966,  0.93719503, -0.16623339]),\n",
       " array([ 0.10618564,  0.93675849, -0.1658508 ]),\n",
       " array([ 0.10599811,  0.93628771, -0.16543699]),\n",
       " array([ 0.1057795 ,  0.93573928, -0.16495623]),\n",
       " array([ 0.10553377,  0.93512285, -0.16441591]),\n",
       " array([ 0.10525757,  0.93442998, -0.16380864]),\n",
       " array([ 0.10495977,  0.93368237, -0.16315148]),\n",
       " array([ 0.10461283,  0.932812  , -0.16238845]),\n",
       " array([ 0.10422292,  0.93183385, -0.161531  ]),\n",
       " array([ 0.10378472,  0.93073458, -0.16056745]),\n",
       " array([ 0.10331191,  0.92954761, -0.15952405]),\n",
       " array([ 0.10276159,  0.92816699, -0.15831357]),\n",
       " array([ 0.10214325,  0.92661574, -0.15695358]),\n",
       " array([ 0.10144853,  0.92487288, -0.15542568]),\n",
       " array([ 0.1006981 ,  0.92298894, -0.15376949]),\n",
       " array([ 0.09982587,  0.92080062, -0.15185055]),\n",
       " array([ 0.09888043,  0.91842706, -0.14976387]),\n",
       " array([ 0.097819  ,  0.91576234, -0.14742122]),\n",
       " array([ 0.09662738,  0.91277075, -0.1447912 ]),\n",
       " array([ 0.09528958,  0.90941218, -0.14183857]),\n",
       " array([ 0.09378767,  0.90564162, -0.13852374]),\n",
       " array([ 0.09207044,  0.90133195, -0.13474001]),\n",
       " array([ 0.09017834,  0.89658176, -0.13056381]),\n",
       " array([ 0.08805414,  0.89124888, -0.12587533]),\n",
       " array([ 0.08566937,  0.88526183, -0.12061172]),\n",
       " array([ 0.08299206,  0.87854036, -0.11470244]),\n",
       " array([ 0.07995662,  0.87092118, -0.10800875]),\n",
       " array([ 0.07658401,  0.86245403, -0.10056444]),\n",
       " array([ 0.07279769,  0.85294824, -0.09220696]),\n",
       " array([ 0.06851946,  0.84220877, -0.08276928]),\n",
       " array([ 0.06372263,  0.83016719, -0.07218633]),\n",
       " array([ 0.0583483 ,  0.81667542, -0.06032708]),\n",
       " array([ 0.05232621,  0.80155692, -0.04703609]),\n",
       " array([ 0.04555647,  0.78456187, -0.03209682]),\n",
       " array([ 0.03795308,  0.76547416, -0.01531856]),\n",
       " array([ 0.03058051,  0.74763356, -0.        ]),\n",
       " array([ 0.02778049,  0.74477548, -0.        ]),\n",
       " array([ 0.02463731,  0.74156697, -0.        ]),\n",
       " array([ 0.02110856,  0.73796487, -0.        ]),\n",
       " array([ 0.01714695,  0.73392091, -0.        ]),\n",
       " array([0.01269991, 0.72938115, 0.        ]),\n",
       " array([0.00770902, 0.72428532, 0.        ]),\n",
       " array([0.00209951, 0.71856127, 0.        ]),\n",
       " array([0.        , 0.71418426, 0.        ]),\n",
       " array([0.        , 0.71042086, 0.        ]),\n",
       " array([0.        , 0.70619581, 0.        ]),\n",
       " array([0.        , 0.70145249, 0.        ]),\n",
       " array([0.        , 0.69612731, 0.        ]),\n",
       " array([0.       , 0.6901489, 0.       ]),\n",
       " array([0.        , 0.68343714, 0.        ]),\n",
       " array([0.        , 0.67590206, 0.        ]),\n",
       " array([0.        , 0.66744267, 0.        ]),\n",
       " array([-0.        ,  0.65794559,  0.        ]),\n",
       " array([-0.        ,  0.64728352,  0.        ]),\n",
       " array([-0.        ,  0.63531355,  0.        ]),\n",
       " array([-0.        ,  0.62187526,  0.        ]),\n",
       " array([-0.        ,  0.60678852,  0.        ]),\n",
       " array([-0.        ,  0.58985113,  0.        ]),\n",
       " array([-0.        ,  0.57083606,  0.        ]),\n",
       " array([-0.        ,  0.54948846,  0.        ]),\n",
       " array([-0.        ,  0.52552219,  0.        ]),\n",
       " array([-0.        ,  0.49861604,  0.        ]),\n",
       " array([-0.        ,  0.46840937,  0.        ]),\n",
       " array([-0.        ,  0.43449731,  0.        ]),\n",
       " array([-0.        ,  0.39642533,  0.        ]),\n",
       " array([-0.        ,  0.35368316,  0.        ]),\n",
       " array([-0.        ,  0.30569789,  0.        ]),\n",
       " array([-0.        ,  0.25182638,  0.        ]),\n",
       " array([-0.        ,  0.19134656,  0.        ]),\n",
       " array([-0.        ,  0.12344783,  0.        ]),\n",
       " array([-0.        ,  0.04722011,  0.        ]),\n",
       " array([-0.,  0.,  0.]),\n",
       " array([-0.,  0.,  0.]),\n",
       " array([-0.,  0.,  0.])]"
      ]
     },
     "execution_count": 171,
     "metadata": {},
     "output_type": "execute_result"
    }
   ],
   "source": [
    "#COMPUTING COEFFICIENTS FOR EACH LAMBDA IN LAMBDAS\n",
    "\n",
    "z = []\n",
    "for i in lambdas:\n",
    "    clf = Lasso(alpha = i, max_iter = 1000000)\n",
    "    clf.fit(X_train, y_train)\n",
    "    z.append(clf.coef_)\n",
    "z   "
   ]
  },
  {
   "cell_type": "code",
   "execution_count": 157,
   "metadata": {},
   "outputs": [
    {
     "data": {
      "text/plain": [
       "Text(0.5, 1.0, 'Lasso Coefficients for Petal Width as a Function of Regularization')"
      ]
     },
     "execution_count": 157,
     "metadata": {},
     "output_type": "execute_result"
    },
    {
     "data": {
      "image/png": "[encoded data removed]",
      "text/plain": [
       "<Figure size 432x288 with 1 Axes>"
      ]
     },
     "metadata": {},
     "output_type": "display_data"
    }
   ],
   "source": [
    "import plotly.express as px\n",
    "\n",
    "#LASSO PLOT\n",
    "\n",
    "fig,ax = plt.subplots(1,1)\n",
    "ax.plot(-np.log((lambdas)),z)\n",
    "plt.axvline(x=-np.log(alpha), linestyle = \"--\")\n",
    "plt.text(0,0.6,'optimal alpha ->')\n",
    "plt.axhline(y=0, linestyle = \"--\", color = \"lightgray\")\n",
    "ax.legend(['sepal width (cm)', 'petal length (cm)', 'sepal length (cm)'],loc='center left', bbox_to_anchor=(1, 0.5))#bbox_to_anchor\n",
    "plt.xlabel('Shrinkage Factor (s)')\n",
    "plt.ylabel('Lasso Coefficient')\n",
    "plt.title('Lasso Coefficients for Petal Width as a Function of Regularization')"
   ]
  },
  {
   "cell_type": "code",
   "execution_count": 149,
   "metadata": {},
   "outputs": [
    {
     "name": "stdout",
     "output_type": "stream",
     "text": [
      "The sepal length (cm) is the best indicator because the coefficient shifts from zero first and has the largest coefficient at the optimal point (dotted line).\n"
     ]
    }
   ],
   "source": [
    "#LASSO PLOT EXPLANATION\n",
    "\n",
    "print(f\"The petal length (cm) is the best indicator because the coefficient shifts from zero first and has the largest coefficient at the optimal point (dotted line).\")"
   ]
  },
  {
   "cell_type": "code",
   "execution_count": 110,
   "metadata": {},
   "outputs": [
    {
     "data": {
      "text/html": [
       "<div>\n",
       "<style scoped>\n",
       "    .dataframe tbody tr th:only-of-type {\n",
       "        vertical-align: middle;\n",
       "    }\n",
       "\n",
       "    .dataframe tbody tr th {\n",
       "        vertical-align: top;\n",
       "    }\n",
       "\n",
       "    .dataframe thead th {\n",
       "        text-align: right;\n",
       "    }\n",
       "</style>\n",
       "<table border=\"1\" class=\"dataframe\">\n",
       "  <thead>\n",
       "    <tr style=\"text-align: right;\">\n",
       "      <th></th>\n",
       "      <th>sepal width (cm)</th>\n",
       "      <th>petal length (cm)</th>\n",
       "      <th>petal width (cm)</th>\n",
       "      <th>sepal length (cm)</th>\n",
       "    </tr>\n",
       "  </thead>\n",
       "  <tbody>\n",
       "    <tr>\n",
       "      <th>sepal width (cm)</th>\n",
       "      <td>1.000000</td>\n",
       "      <td>-0.420516</td>\n",
       "      <td>-0.356544</td>\n",
       "      <td>-0.109369</td>\n",
       "    </tr>\n",
       "    <tr>\n",
       "      <th>petal length (cm)</th>\n",
       "      <td>-0.420516</td>\n",
       "      <td>1.000000</td>\n",
       "      <td>0.962757</td>\n",
       "      <td>0.871754</td>\n",
       "    </tr>\n",
       "    <tr>\n",
       "      <th>petal width (cm)</th>\n",
       "      <td>-0.356544</td>\n",
       "      <td>0.962757</td>\n",
       "      <td>1.000000</td>\n",
       "      <td>0.817954</td>\n",
       "    </tr>\n",
       "    <tr>\n",
       "      <th>sepal length (cm)</th>\n",
       "      <td>-0.109369</td>\n",
       "      <td>0.871754</td>\n",
       "      <td>0.817954</td>\n",
       "      <td>1.000000</td>\n",
       "    </tr>\n",
       "  </tbody>\n",
       "</table>\n",
       "</div>"
      ],
      "text/plain": [
       "                   sepal width (cm)  petal length (cm)  petal width (cm)  \\\n",
       "sepal width (cm)           1.000000          -0.420516         -0.356544   \n",
       "petal length (cm)         -0.420516           1.000000          0.962757   \n",
       "petal width (cm)          -0.356544           0.962757          1.000000   \n",
       "sepal length (cm)         -0.109369           0.871754          0.817954   \n",
       "\n",
       "                   sepal length (cm)  \n",
       "sepal width (cm)           -0.109369  \n",
       "petal length (cm)           0.871754  \n",
       "petal width (cm)            0.817954  \n",
       "sepal length (cm)           1.000000  "
      ]
     },
     "execution_count": 110,
     "metadata": {},
     "output_type": "execute_result"
    }
   ],
   "source": [
    "\n",
    "revised_dataset.drop([\"Id\",\"species\"],axis=1).corr()"
   ]
  },
  {
   "cell_type": "code",
   "execution_count": 54,
   "metadata": {},
   "outputs": [
    {
     "name": "stdout",
     "output_type": "stream",
     "text": [
      "This makes sense because the PetalLengthCm has the highest correlation with the target column.\n"
     ]
    }
   ],
   "source": [
    "print(\"This makes sense because the petal length (cm) has the highest correlation with the target column (petal width (cm)).\")"
   ]
  },
  {
   "cell_type": "code",
   "execution_count": 163,
   "metadata": {},
   "outputs": [
    {
     "data": {
      "text/plain": [
       "(array([37., 13.,  0.,  3.,  8., 26., 29., 18., 11.,  5.]),\n",
       " array([-1.56873522, -1.23322757, -0.89771991, -0.56221226, -0.22670461,\n",
       "         0.10880305,  0.4443107 ,  0.77981835,  1.11532601,  1.45083366,\n",
       "         1.78634131]),\n",
       " <a list of 10 Patch objects>)"
      ]
     },
     "execution_count": 163,
     "metadata": {},
     "output_type": "execute_result"
    },
    {
     "data": {
      "image/png": "[encoded data removed]",
      "text/plain": [
       "<Figure size 432x288 with 1 Axes>"
      ]
     },
     "metadata": {},
     "output_type": "display_data"
    }
   ],
   "source": []
  },
  {
   "cell_type": "code",
   "execution_count": null,
   "metadata": {},
   "outputs": [],
   "source": []
  }
 ],
 "metadata": {
  "kernelspec": {
   "display_name": "Python 3",
   "language": "python",
   "name": "python3"
  },
  "language_info": {
   "codemirror_mode": {
    "name": "ipython",
    "version": 3
   },
   "file_extension": ".py",
   "mimetype": "text/x-python",
   "name": "python",
   "nbconvert_exporter": "python",
   "pygments_lexer": "ipython3",
   "version": "3.7.6"
  }
 },
 "nbformat": 4,
 "nbformat_minor": 4
}
